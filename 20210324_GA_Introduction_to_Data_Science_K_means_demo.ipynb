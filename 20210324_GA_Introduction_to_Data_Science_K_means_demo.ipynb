{
  "nbformat": 4,
  "nbformat_minor": 0,
  "metadata": {
    "kernelspec": {
      "display_name": "Python 3",
      "language": "python",
      "name": "python3"
    },
    "language_info": {
      "codemirror_mode": {
        "name": "ipython",
        "version": 3
      },
      "file_extension": ".py",
      "mimetype": "text/x-python",
      "name": "python",
      "nbconvert_exporter": "python",
      "pygments_lexer": "ipython3",
      "version": "3.7.9"
    },
    "colab": {
      "name": "20210324 - GA Introduction to Data Science - K-means demo.ipynb",
      "provenance": [],
      "include_colab_link": true
    }
  },
  "cells": [
    {
      "cell_type": "markdown",
      "metadata": {
        "id": "view-in-github",
        "colab_type": "text"
      },
      "source": [
        "<a href=\"https://colab.research.google.com/github/WongCKB/Miscellaneous/blob/master/20210324_GA_Introduction_to_Data_Science_K_means_demo.ipynb\" target=\"_parent\"><img src=\"https://colab.research.google.com/assets/colab-badge.svg\" alt=\"Open In Colab\"/></a>"
      ]
    },
    {
      "cell_type": "markdown",
      "metadata": {
        "id": "djshotCJsvd-"
      },
      "source": [
        "# Introduction to Data Science - General Assembly (2021-03-23)"
      ]
    },
    {
      "cell_type": "markdown",
      "metadata": {
        "id": "Rp_7gobAsveD"
      },
      "source": [
        "Some useful commands for using a Jupyter notebook: \n",
        "* Enter to modify the contents of a cell \n",
        "* Escape to leave a cell \n",
        "* Shift-Enter to run a cell and move to the next one \n",
        "* b to insert a cell (when not in a cell) \n",
        "* dd to delete a cell (when not in a cell) \n",
        "* Put ? in front of a command to see its help (e.g. `?pd.read_csv`)\n",
        "* Press Tab when writing a command for autocompletion\n",
        "* Put the cursor inside brackets of a function and press Shift-Tab to have documentation pop up (e.g. `pd.read_csv(place cursor here, press Shift-Tab)` "
      ]
    },
    {
      "cell_type": "markdown",
      "metadata": {
        "id": "9Jlf2O4psveE"
      },
      "source": [
        "## Importing packages and modules\n",
        "\n",
        "We'll start by importing the packages we'll use. We use the `import` command to do this.  We use `pandas` for data analysis and `matplotlib` for plotting. \n",
        "\n",
        "We can give these packages a shorter name to make it easy to refer to them. We'll do that too.\n"
      ]
    },
    {
      "cell_type": "code",
      "metadata": {
        "id": "-5NVuKaTsveE"
      },
      "source": [
        "import pandas as pd\n",
        "import matplotlib.pyplot as plt\n",
        "from sklearn.datasets import make_blobs"
      ],
      "execution_count": null,
      "outputs": []
    },
    {
      "cell_type": "markdown",
      "metadata": {
        "id": "y_WT7EuxsveF"
      },
      "source": [
        "## Get the dataset you've created"
      ]
    },
    {
      "cell_type": "code",
      "metadata": {
        "colab": {
          "base_uri": "https://localhost:8080/",
          "height": 669
        },
        "id": "jSc7CHmysveF",
        "outputId": "1fe9d325-7b17-4dde-de77-26822404629e"
      },
      "source": [
        "X = pd.read_csv('clustering_dataset_20210323_ga.csv')\n",
        "X.dropna(inplace=True); X.reset_index(drop=True,inplace=True)\n",
        "X.head(20)"
      ],
      "execution_count": null,
      "outputs": [
        {
          "output_type": "execute_result",
          "data": {
            "text/html": [
              "<div>\n",
              "<style scoped>\n",
              "    .dataframe tbody tr th:only-of-type {\n",
              "        vertical-align: middle;\n",
              "    }\n",
              "\n",
              "    .dataframe tbody tr th {\n",
              "        vertical-align: top;\n",
              "    }\n",
              "\n",
              "    .dataframe thead th {\n",
              "        text-align: right;\n",
              "    }\n",
              "</style>\n",
              "<table border=\"1\" class=\"dataframe\">\n",
              "  <thead>\n",
              "    <tr style=\"text-align: right;\">\n",
              "      <th></th>\n",
              "      <th>height</th>\n",
              "      <th>w_exp</th>\n",
              "      <th>f_name</th>\n",
              "    </tr>\n",
              "  </thead>\n",
              "  <tbody>\n",
              "    <tr>\n",
              "      <th>0</th>\n",
              "      <td>175.00</td>\n",
              "      <td>20.00</td>\n",
              "      <td>name 1</td>\n",
              "    </tr>\n",
              "    <tr>\n",
              "      <th>1</th>\n",
              "      <td>170.00</td>\n",
              "      <td>7.00</td>\n",
              "      <td>name 2</td>\n",
              "    </tr>\n",
              "    <tr>\n",
              "      <th>2</th>\n",
              "      <td>160.00</td>\n",
              "      <td>11.00</td>\n",
              "      <td>name 3</td>\n",
              "    </tr>\n",
              "    <tr>\n",
              "      <th>3</th>\n",
              "      <td>165.00</td>\n",
              "      <td>15.00</td>\n",
              "      <td>name 4</td>\n",
              "    </tr>\n",
              "    <tr>\n",
              "      <th>4</th>\n",
              "      <td>162.56</td>\n",
              "      <td>8.00</td>\n",
              "      <td>name 5</td>\n",
              "    </tr>\n",
              "    <tr>\n",
              "      <th>5</th>\n",
              "      <td>160.00</td>\n",
              "      <td>4.00</td>\n",
              "      <td>name 6</td>\n",
              "    </tr>\n",
              "    <tr>\n",
              "      <th>6</th>\n",
              "      <td>170.00</td>\n",
              "      <td>10.00</td>\n",
              "      <td>name 7</td>\n",
              "    </tr>\n",
              "    <tr>\n",
              "      <th>7</th>\n",
              "      <td>171.00</td>\n",
              "      <td>0.50</td>\n",
              "      <td>name 8</td>\n",
              "    </tr>\n",
              "    <tr>\n",
              "      <th>8</th>\n",
              "      <td>159.00</td>\n",
              "      <td>8.00</td>\n",
              "      <td>name 9</td>\n",
              "    </tr>\n",
              "    <tr>\n",
              "      <th>9</th>\n",
              "      <td>155.00</td>\n",
              "      <td>14.00</td>\n",
              "      <td>name 10</td>\n",
              "    </tr>\n",
              "    <tr>\n",
              "      <th>10</th>\n",
              "      <td>173.00</td>\n",
              "      <td>4.25</td>\n",
              "      <td>name 11</td>\n",
              "    </tr>\n",
              "    <tr>\n",
              "      <th>11</th>\n",
              "      <td>186.00</td>\n",
              "      <td>18.00</td>\n",
              "      <td>name 12</td>\n",
              "    </tr>\n",
              "    <tr>\n",
              "      <th>12</th>\n",
              "      <td>155.00</td>\n",
              "      <td>14.00</td>\n",
              "      <td>name 13</td>\n",
              "    </tr>\n",
              "    <tr>\n",
              "      <th>13</th>\n",
              "      <td>157.80</td>\n",
              "      <td>3.60</td>\n",
              "      <td>name 14</td>\n",
              "    </tr>\n",
              "    <tr>\n",
              "      <th>14</th>\n",
              "      <td>175.26</td>\n",
              "      <td>0.00</td>\n",
              "      <td>name 15</td>\n",
              "    </tr>\n",
              "    <tr>\n",
              "      <th>15</th>\n",
              "      <td>181.00</td>\n",
              "      <td>9.25</td>\n",
              "      <td>name 16</td>\n",
              "    </tr>\n",
              "    <tr>\n",
              "      <th>16</th>\n",
              "      <td>165.00</td>\n",
              "      <td>6.75</td>\n",
              "      <td>name 17</td>\n",
              "    </tr>\n",
              "    <tr>\n",
              "      <th>17</th>\n",
              "      <td>175.00</td>\n",
              "      <td>0.00</td>\n",
              "      <td>name 18</td>\n",
              "    </tr>\n",
              "    <tr>\n",
              "      <th>18</th>\n",
              "      <td>179.00</td>\n",
              "      <td>15.00</td>\n",
              "      <td>name 19</td>\n",
              "    </tr>\n",
              "    <tr>\n",
              "      <th>19</th>\n",
              "      <td>170.00</td>\n",
              "      <td>11.00</td>\n",
              "      <td>name 20</td>\n",
              "    </tr>\n",
              "  </tbody>\n",
              "</table>\n",
              "</div>"
            ],
            "text/plain": [
              "    height  w_exp   f_name\n",
              "0   175.00  20.00   name 1\n",
              "1   170.00   7.00   name 2\n",
              "2   160.00  11.00   name 3\n",
              "3   165.00  15.00   name 4\n",
              "4   162.56   8.00   name 5\n",
              "5   160.00   4.00   name 6\n",
              "6   170.00  10.00   name 7\n",
              "7   171.00   0.50   name 8\n",
              "8   159.00   8.00   name 9\n",
              "9   155.00  14.00  name 10\n",
              "10  173.00   4.25  name 11\n",
              "11  186.00  18.00  name 12\n",
              "12  155.00  14.00  name 13\n",
              "13  157.80   3.60  name 14\n",
              "14  175.26   0.00  name 15\n",
              "15  181.00   9.25  name 16\n",
              "16  165.00   6.75  name 17\n",
              "17  175.00   0.00  name 18\n",
              "18  179.00  15.00  name 19\n",
              "19  170.00  11.00  name 20"
            ]
          },
          "metadata": {
            "tags": []
          },
          "execution_count": 8
        }
      ]
    },
    {
      "cell_type": "code",
      "metadata": {
        "colab": {
          "base_uri": "https://localhost:8080/",
          "height": 497
        },
        "id": "Vj5cv8-usveF",
        "outputId": "08b2721c-7018-4981-f451-0a52567fa4ee"
      },
      "source": [
        "# plot\n",
        "plt.figure(figsize=(10,8))\n",
        "ax = plt.axes(); ax.set(xlabel='w_exp',ylabel='height')\n",
        "ax.scatter(\n",
        "   X['w_exp'], X['height'],\n",
        "   c='darkorange', marker='o',\n",
        "   edgecolor='black', s=50\n",
        ")\n",
        "for x in X.values:\n",
        "    r = dict(zip(X.columns,x))\n",
        "    ax.annotate(r['f_name'],(r['w_exp']+0.1,r['height']))\n",
        "plt.show()"
      ],
      "execution_count": null,
      "outputs": [
        {
          "output_type": "display_data",
          "data": {
            "image/png": "[encoded data removed]",
            "text/plain": [
              "<Figure size 720x576 with 1 Axes>"
            ]
          },
          "metadata": {
            "tags": [],
            "needs_background": "light"
          }
        }
      ]
    },
    {
      "cell_type": "markdown",
      "metadata": {
        "id": "mdkU-b2rsveG"
      },
      "source": [
        "## Pre-processing"
      ]
    },
    {
      "cell_type": "code",
      "metadata": {
        "id": "3gQQbtl9sveG"
      },
      "source": [
        "# from sklearn.preprocessing import StandardScaler\n",
        "\n",
        "# scaler = StandardScaler().fit(X[['w_exp','height']])\n",
        "# X_standardised = scaler.transform(X[['w_exp','height']])\n",
        "# X_standardised = pd.DataFrame(X_standardised,columns=['scaled_w_exp','scaled_height'])\n",
        "# X_standardised.head(10)"
      ],
      "execution_count": null,
      "outputs": []
    },
    {
      "cell_type": "markdown",
      "metadata": {
        "id": "yN7sjiYDsveG"
      },
      "source": [
        "## Let's run K-means clustering using scikit-learn"
      ]
    },
    {
      "cell_type": "code",
      "metadata": {
        "colab": {
          "base_uri": "https://localhost:8080/",
          "height": 204
        },
        "id": "KfPLDi3psveG",
        "outputId": "be3c7d21-cf30-43f6-eda2-777d1cdf2352"
      },
      "source": [
        "from sklearn.cluster import KMeans\n",
        "\n",
        "km = KMeans(\n",
        "    n_clusters=3, init='random',\n",
        "    n_init=10, max_iter=300, \n",
        "    tol=1e-04, random_state=0\n",
        ")\n",
        "X['cluster'] = km.fit_predict(X[['w_exp','height']])\n",
        "# X['cluster'] = km.fit_predict(X_standardised)\n",
        "X.head(5)"
      ],
      "execution_count": null,
      "outputs": [
        {
          "output_type": "execute_result",
          "data": {
            "text/html": [
              "<div>\n",
              "<style scoped>\n",
              "    .dataframe tbody tr th:only-of-type {\n",
              "        vertical-align: middle;\n",
              "    }\n",
              "\n",
              "    .dataframe tbody tr th {\n",
              "        vertical-align: top;\n",
              "    }\n",
              "\n",
              "    .dataframe thead th {\n",
              "        text-align: right;\n",
              "    }\n",
              "</style>\n",
              "<table border=\"1\" class=\"dataframe\">\n",
              "  <thead>\n",
              "    <tr style=\"text-align: right;\">\n",
              "      <th></th>\n",
              "      <th>height</th>\n",
              "      <th>w_exp</th>\n",
              "      <th>f_name</th>\n",
              "      <th>cluster</th>\n",
              "    </tr>\n",
              "  </thead>\n",
              "  <tbody>\n",
              "    <tr>\n",
              "      <th>0</th>\n",
              "      <td>175.00</td>\n",
              "      <td>20.0</td>\n",
              "      <td>name 1</td>\n",
              "      <td>0</td>\n",
              "    </tr>\n",
              "    <tr>\n",
              "      <th>1</th>\n",
              "      <td>170.00</td>\n",
              "      <td>7.0</td>\n",
              "      <td>name 2</td>\n",
              "      <td>0</td>\n",
              "    </tr>\n",
              "    <tr>\n",
              "      <th>2</th>\n",
              "      <td>160.00</td>\n",
              "      <td>11.0</td>\n",
              "      <td>name 3</td>\n",
              "      <td>2</td>\n",
              "    </tr>\n",
              "    <tr>\n",
              "      <th>3</th>\n",
              "      <td>165.00</td>\n",
              "      <td>15.0</td>\n",
              "      <td>name 4</td>\n",
              "      <td>2</td>\n",
              "    </tr>\n",
              "    <tr>\n",
              "      <th>4</th>\n",
              "      <td>162.56</td>\n",
              "      <td>8.0</td>\n",
              "      <td>name 5</td>\n",
              "      <td>2</td>\n",
              "    </tr>\n",
              "  </tbody>\n",
              "</table>\n",
              "</div>"
            ],
            "text/plain": [
              "   height  w_exp  f_name  cluster\n",
              "0  175.00   20.0  name 1        0\n",
              "1  170.00    7.0  name 2        0\n",
              "2  160.00   11.0  name 3        2\n",
              "3  165.00   15.0  name 4        2\n",
              "4  162.56    8.0  name 5        2"
            ]
          },
          "metadata": {
            "tags": []
          },
          "execution_count": 11
        }
      ]
    },
    {
      "cell_type": "markdown",
      "metadata": {
        "id": "fjcqeNbEsveH"
      },
      "source": [
        "## Now plot the clusters"
      ]
    },
    {
      "cell_type": "code",
      "metadata": {
        "colab": {
          "base_uri": "https://localhost:8080/",
          "height": 497
        },
        "id": "zjHR823isveH",
        "outputId": "e2e24d3a-6d29-44c1-fc84-4053e3ce5f29"
      },
      "source": [
        "# plot\n",
        "plt.figure(figsize=(10,8))\n",
        "ax = plt.axes(); ax.set(xlabel='w_exp',ylabel='height')\n",
        "# centroids = scaler.inverse_transform(km.cluster_centers_)\n",
        "centroids = km.cluster_centers_\n",
        "ax.scatter(\n",
        "   X['w_exp'], X['height'],\n",
        "   c=X['cluster'], marker='o',\n",
        "   edgecolor='black', s=50\n",
        ")\n",
        "for x in X.values:\n",
        "    r = dict(zip(X.columns,x))\n",
        "    ax.annotate(r['f_name'],(r['w_exp']+0.1,r['height']))\n",
        "    \n",
        "_ = ax.scatter(centroids[:,0],centroids[:,1],s=250,marker=\"*\",c=\"red\")\n",
        "\n",
        "plt.show()"
      ],
      "execution_count": null,
      "outputs": [
        {
          "output_type": "display_data",
          "data": {
            "image/png": "[encoded data removed]",
            "text/plain": [
              "<Figure size 720x576 with 1 Axes>"
            ]
          },
          "metadata": {
            "tags": [],
            "needs_background": "light"
          }
        }
      ]
    },
    {
      "cell_type": "code",
      "metadata": {
        "colab": {
          "base_uri": "https://localhost:8080/",
          "height": 129
        },
        "id": "VoMsKoUisveH",
        "outputId": "7197cd97-9010-48e1-b277-b5b8d59025fc"
      },
      "source": [
        "FIN!"
      ],
      "execution_count": null,
      "outputs": [
        {
          "output_type": "error",
          "ename": "SyntaxError",
          "evalue": "ignored",
          "traceback": [
            "\u001b[0;36m  File \u001b[0;32m\"<ipython-input-14-3d6faab85921>\"\u001b[0;36m, line \u001b[0;32m1\u001b[0m\n\u001b[0;31m    FIN!\u001b[0m\n\u001b[0m       ^\u001b[0m\n\u001b[0;31mSyntaxError\u001b[0m\u001b[0;31m:\u001b[0m invalid syntax\n"
          ]
        }
      ]
    }
  ]
}